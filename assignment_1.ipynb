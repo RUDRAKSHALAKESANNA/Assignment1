{
 "cells": [
  {
   "cell_type": "code",
   "execution_count": 1,
   "metadata": {},
   "outputs": [
    {
     "data": {
      "text/plain": [
       "array([0., 0., 0., 0., 1., 0., 0., 0., 0., 0.])"
      ]
     },
     "execution_count": 1,
     "metadata": {},
     "output_type": "execute_result"
    }
   ],
   "source": [
    "#1_question\n",
    "# 1. Create a null vector of size 10 but the fifth value which is 1.\n",
    "import numpy as np\n",
    "vector = np. zeros(10); x[4] = 1\n",
    "print(vector)"
   ]
  },
  {
   "cell_type": "code",
   "execution_count": 3,
   "metadata": {},
   "outputs": [
    {
     "name": "stdout",
     "output_type": "stream",
     "text": [
      "[10 11 12 13 14 15 16 17 18 19 20 21 22 23 24 25 26 27 28 29 30 31 32 33\n",
      " 34 35 36 37 38 39 40 41 42 43 44 45 46 47 48]\n"
     ]
    }
   ],
   "source": [
    "#2_question\n",
    "# 2. Create a vector with values ranging from 10 to 49.\n",
    "import numpy as np\n",
    "vector_2 = np.arange(10,49)\n",
    "print(vector_2)"
   ]
  },
  {
   "cell_type": "code",
   "execution_count": 10,
   "metadata": {},
   "outputs": [
    {
     "name": "stdout",
     "output_type": "stream",
     "text": [
      "[[0 1 2]\n",
      " [3 4 5]\n",
      " [6 7 8]]\n"
     ]
    }
   ],
   "source": [
    "#3_question\n",
    "# Create a 3x3 matrix with values ranging from 0 to 8\n",
    "import numpy as np\n",
    "matrix = np.arange(0,9).reshape(3,3) \n",
    "print(matrix)                                                \n"
   ]
  },
  {
   "cell_type": "code",
   "execution_count": 12,
   "metadata": {},
   "outputs": [
    {
     "data": {
      "text/plain": [
       "(array([0, 1, 4], dtype=int64),)"
      ]
     },
     "execution_count": 12,
     "metadata": {},
     "output_type": "execute_result"
    }
   ],
   "source": [
    "#4_question\n",
    "#Find indices of non-zero elements from [1,2,0,0,4,0]\n",
    "import numpy as np\n",
    "arr=np.nonzero([1,2,0,0,4,0])\n",
    "arr"
   ]
  },
  {
   "cell_type": "code",
   "execution_count": 4,
   "metadata": {},
   "outputs": [
    {
     "name": "stdout",
     "output_type": "stream",
     "text": [
      "0.012920400066484428 0.9963379973268094\n"
     ]
    }
   ],
   "source": [
    "#5_question\n",
    "#Create a 10x10 array with random values and find the minimum and maximum values.\n",
    "import numpy as np\n",
    "arr1=np.random.rand(10,10)\n",
    "arr1_min=arr1.min()\n",
    "arr1_max=arr1.max()\n",
    "print(arr1_min,arr1_max)\n"
   ]
  },
  {
   "cell_type": "code",
   "execution_count": 3,
   "metadata": {},
   "outputs": [
    {
     "data": {
      "text/plain": [
       "0.5554316202632754"
      ]
     },
     "execution_count": 3,
     "metadata": {},
     "output_type": "execute_result"
    }
   ],
   "source": [
    "#6_question\n",
    "#Create a random vector of size 30 and find the mean value.\n",
    "import numpy as np\n",
    "vect1=np.random.random(30)\n",
    "mean=vect1.mean()\n",
    "mean"
   ]
  },
  {
   "cell_type": "code",
   "execution_count": null,
   "metadata": {},
   "outputs": [],
   "source": []
  }
 ],
 "metadata": {
  "kernelspec": {
   "display_name": "Python 3",
   "language": "python",
   "name": "python3"
  },
  "language_info": {
   "codemirror_mode": {
    "name": "ipython",
    "version": 3
   },
   "file_extension": ".py",
   "mimetype": "text/x-python",
   "name": "python",
   "nbconvert_exporter": "python",
   "pygments_lexer": "ipython3",
   "version": "3.10.4"
  },
  "orig_nbformat": 4,
  "vscode": {
   "interpreter": {
    "hash": "d6eec8d4f3fe54c76ad7f7bcbf3f3ad9200d451524026adbab581e5875bd408d"
   }
  }
 },
 "nbformat": 4,
 "nbformat_minor": 2
}

{
 "cells": [
  {
   "cell_type": "code",
   "execution_count": 1,
   "metadata": {},
   "outputs": [
    {
     "data": {
      "text/plain": [
       "array([0., 0., 0., 0., 1., 0., 0., 0., 0., 0.])"
      ]
     },
     "execution_count": 1,
     "metadata": {},
     "output_type": "execute_result"
    }
   ],
   "source": [
    "#1_question\n",
    "# 1. Create a null vector of size 10 but the fifth value which is 1.\n",
    "import numpy as np\n",
    "vector = np. zeros(10); x[4] = 1\n",
    "print(vector)"
   ]
  },
  {
   "cell_type": "code",
   "execution_count": 3,
   "metadata": {},
   "outputs": [
    {
     "name": "stdout",
     "output_type": "stream",
     "text": [
      "[10 11 12 13 14 15 16 17 18 19 20 21 22 23 24 25 26 27 28 29 30 31 32 33\n",
      " 34 35 36 37 38 39 40 41 42 43 44 45 46 47 48]\n"
     ]
    }
   ],
   "source": [
    "#2_question\n",
    "# 2. Create a vector with values ranging from 10 to 49.\n",
    "import numpy as np\n",
    "vector_2 = np.arange(10,49)\n",
    "print(vector_2)"
   ]
  },
  {
   "cell_type": "code",
   "execution_count": 10,
   "metadata": {},
   "outputs": [
    {
     "name": "stdout",
     "output_type": "stream",
     "text": [
      "[[0 1 2]\n",
      " [3 4 5]\n",
      " [6 7 8]]\n"
     ]
    }
   ],
   "source": [
    "#3_question\n",
    "# Create a 3x3 matrix with values ranging from 0 to 8\n",
    "import numpy as np\n",
    "matrix = np.arange(0,9).reshape(3,3) \n",
    "print(matrix)                                                \n"
   ]
  },
  {
   "cell_type": "code",
   "execution_count": 12,
   "metadata": {},
   "outputs": [
    {
     "data": {
      "text/plain": [
       "(array([0, 1, 4], dtype=int64),)"
      ]
     },
     "execution_count": 12,
     "metadata": {},
     "output_type": "execute_result"
    }
   ],
   "source": [
    "#4_question\n",
    "#Find indices of non-zero elements from [1,2,0,0,4,0]\n",
    "import numpy as np\n",
    "arr=np.nonzero([1,2,0,0,4,0])\n",
    "arr"
   ]
  },
  {
   "cell_type": "code",
   "execution_count": 13,
   "metadata": {},
   "outputs": [
    {
     "data": {
      "text/plain": [
       "array([[0.64940032, 0.70236353, 0.77089352, 0.86717971, 0.87393038,\n",
       "        0.76907138, 0.63733516, 0.14148069, 0.78818161, 0.86075397],\n",
       "       [0.6299868 , 0.27740807, 0.64116885, 0.36600827, 0.3572452 ,\n",
       "        0.59432022, 0.18401394, 0.77347949, 0.10485433, 0.11612185],\n",
       "       [0.39718271, 0.02470479, 0.23997199, 0.87039177, 0.64612981,\n",
       "        0.03760819, 0.11932479, 0.82272964, 0.07983914, 0.46614245],\n",
       "       [0.03889966, 0.74029964, 0.96741227, 0.30569282, 0.16473961,\n",
       "        0.86521826, 0.87560471, 0.22779492, 0.0873818 , 0.67653904],\n",
       "       [0.85094782, 0.57081266, 0.67784568, 0.18384966, 0.30330355,\n",
       "        0.55392879, 0.86788344, 0.8619422 , 0.9542496 , 0.75551677],\n",
       "       [0.67427382, 0.53556088, 0.29568282, 0.31911906, 0.31586957,\n",
       "        0.66247936, 0.55389247, 0.08892099, 0.40332339, 0.93244045],\n",
       "       [0.93416342, 0.80822397, 0.59152747, 0.71139026, 0.25052602,\n",
       "        0.05377316, 0.9492309 , 0.76594133, 0.5075571 , 0.43712991],\n",
       "       [0.8149159 , 0.40085002, 0.15330863, 0.75014396, 0.46689677,\n",
       "        0.30986557, 0.1749391 , 0.20200491, 0.63249389, 0.56273313],\n",
       "       [0.07341002, 0.56924895, 0.99101656, 0.59706846, 0.11478455,\n",
       "        0.95978606, 0.94333461, 0.51425759, 0.72101457, 0.36316437],\n",
       "       [0.0057396 , 0.83535986, 0.05332147, 0.54832168, 0.72519445,\n",
       "        0.9504834 , 0.42114968, 0.65656521, 0.54325806, 0.09321591]])"
      ]
     },
     "execution_count": 13,
     "metadata": {},
     "output_type": "execute_result"
    }
   ],
   "source": [
    "#5_question\n",
    "#Create a 10x10 array with random values and find the minimum and maximum values.\n",
    "import numpy as np\n",
    "arr1=np.random.rand(10,10)\n",
    "arr1\n"
   ]
  },
  {
   "cell_type": "code",
   "execution_count": 16,
   "metadata": {},
   "outputs": [
    {
     "name": "stdout",
     "output_type": "stream",
     "text": [
      "0.005739602786227316 0.9910165622513029\n"
     ]
    }
   ],
   "source": [
    "#6_question\n",
    "#Create a random vector of size 30 and find the mean value.\n",
    "import numpy as np\n",
    "arr1_min=arr1.min()\n",
    "arr1_max=arr1.max()\n",
    "print(arr1_min,arr1_max)"
   ]
  },
  {
   "cell_type": "code",
   "execution_count": null,
   "metadata": {},
   "outputs": [],
   "source": []
  }
 ],
 "metadata": {
  "kernelspec": {
   "display_name": "Python 3",
   "language": "python",
   "name": "python3"
  },
  "language_info": {
   "codemirror_mode": {
    "name": "ipython",
    "version": 3
   },
   "file_extension": ".py",
   "mimetype": "text/x-python",
   "name": "python",
   "nbconvert_exporter": "python",
   "pygments_lexer": "ipython3",
   "version": "3.10.4"
  },
  "orig_nbformat": 4,
  "vscode": {
   "interpreter": {
    "hash": "d6eec8d4f3fe54c76ad7f7bcbf3f3ad9200d451524026adbab581e5875bd408d"
   }
  }
 },
 "nbformat": 4,
 "nbformat_minor": 2
}
